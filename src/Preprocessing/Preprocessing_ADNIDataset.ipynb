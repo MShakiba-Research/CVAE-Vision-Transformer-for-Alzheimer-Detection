{
 "cells": [
  {
   "cell_type": "markdown",
   "metadata": {},
   "source": [
    "#### Image Convertion from DICIOM format to JPEG"
   ]
  },
  {
   "cell_type": "code",
   "execution_count": 1,
   "metadata": {},
   "outputs": [],
   "source": [
    "import os\n",
    "import pydicom\n",
    "from PIL import Image\n",
    "import numpy as np"
   ]
  },
  {
   "cell_type": "code",
   "execution_count": 2,
   "metadata": {},
   "outputs": [],
   "source": [
    "# Function for converting images from DICOM to JPEG\n",
    "def dicom_to_jpeg(input_dir, output_dir, prefix=''):\n",
    "    if not os.path.exists(output_dir):\n",
    "        os.makedirs(output_dir)\n",
    "    \n",
    "    # Iterate over all files in the input directory\n",
    "    for filename in os.listdir(input_dir):\n",
    "        if filename.endswith('.dcm'):\n",
    "            dicom_path = os.path.join(input_dir, filename)\n",
    "            dicom_file = pydicom.dcmread(dicom_path)\n",
    "\n",
    "            # Get the pixel data\n",
    "            pixel_array = dicom_file.pixel_array\n",
    "\n",
    "            # Extracting first slice from 3D data (e.g., image stacks) \n",
    "            if pixel_array.ndim == 3:\n",
    "                # Assuming the third dimension is color channels or slices, take the first slice\n",
    "                pixel_array = pixel_array[:, :, 0]\n",
    "\n",
    "            # Normalize the pixel array to the range 0-255 (8-bit)\n",
    "            pixel_array = ((pixel_array - np.min(pixel_array)) / (np.max(pixel_array) - np.min(pixel_array)) * 255).astype(np.uint8)\n",
    "\n",
    "            # Convert the pixel data to an image\n",
    "            try:\n",
    "                image = Image.fromarray(pixel_array, mode='L')  # Use 'L' for 8-bit pixels, grayscale\n",
    "            except Exception as e:\n",
    "                print(f\"Error converting array to image: {e}\")\n",
    "                continue\n",
    "\n",
    "            # Add prefix and save the image as a JPEG file\n",
    "            jpeg_filename = prefix + os.path.splitext(filename)[0] + '.jpg'\n",
    "            jpeg_path = os.path.join(output_dir, jpeg_filename)\n",
    "            image.save(jpeg_path)\n"
   ]
  },
  {
   "cell_type": "markdown",
   "metadata": {},
   "source": [
    "Cognitive Normal (CN)"
   ]
  },
  {
   "cell_type": "code",
   "execution_count": null,
   "metadata": {},
   "outputs": [
    {
     "name": "stderr",
     "output_type": "stream",
     "text": [
      "/var/folders/89/0k56knzd3f53wfb4tdsbhpfw0000gn/T/ipykernel_1586/1150684480.py:21: RuntimeWarning: invalid value encountered in divide\n",
      "  pixel_array = ((pixel_array - np.min(pixel_array)) / (np.max(pixel_array) - np.min(pixel_array)) * 255).astype(np.uint8)\n",
      "/var/folders/89/0k56knzd3f53wfb4tdsbhpfw0000gn/T/ipykernel_1586/1150684480.py:21: RuntimeWarning: invalid value encountered in cast\n",
      "  pixel_array = ((pixel_array - np.min(pixel_array)) / (np.max(pixel_array) - np.min(pixel_array)) * 255).astype(np.uint8)\n"
     ]
    }
   ],
   "source": [
    "# Define input, output directories and prefix (for Cognitive Normal - Axial MRIs)\n",
    "input_dir = '/Users/Dataset/1_CN/AXIAL_DCM'\n",
    "output_dir = '/Users/Dataset/1_CN/AXIAL_JPG'\n",
    "prefix = 'CN_AX_'  \n",
    "\n",
    "# Calling function to convert DICOM files to JPEG\n",
    "dicom_to_jpeg(input_dir, output_dir, prefix)"
   ]
  },
  {
   "cell_type": "code",
   "execution_count": null,
   "metadata": {},
   "outputs": [
    {
     "name": "stderr",
     "output_type": "stream",
     "text": [
      "/var/folders/89/0k56knzd3f53wfb4tdsbhpfw0000gn/T/ipykernel_1586/1150684480.py:21: RuntimeWarning: overflow encountered in scalar subtract\n",
      "  pixel_array = ((pixel_array - np.min(pixel_array)) / (np.max(pixel_array) - np.min(pixel_array)) * 255).astype(np.uint8)\n"
     ]
    }
   ],
   "source": [
    "# Define input, output directories and prefix (for Cognitive Normal - Sagittal MRIs)\n",
    "input_dir = '/Users/Dataset/1_CN/SAGITTAL_DCM'\n",
    "output_dir = '/Users/Dataset/1_CN/SAGITTAL_JPG'\n",
    "prefix = 'CN_SA_'\n",
    "\n",
    "# Calling function to convert DICOM files to JPEG\n",
    "dicom_to_jpeg(input_dir, output_dir, prefix)"
   ]
  },
  {
   "cell_type": "code",
   "execution_count": null,
   "metadata": {},
   "outputs": [
    {
     "name": "stderr",
     "output_type": "stream",
     "text": [
      "/var/folders/89/0k56knzd3f53wfb4tdsbhpfw0000gn/T/ipykernel_1586/1150684480.py:21: RuntimeWarning: invalid value encountered in divide\n",
      "  pixel_array = ((pixel_array - np.min(pixel_array)) / (np.max(pixel_array) - np.min(pixel_array)) * 255).astype(np.uint8)\n",
      "/var/folders/89/0k56knzd3f53wfb4tdsbhpfw0000gn/T/ipykernel_1586/1150684480.py:21: RuntimeWarning: invalid value encountered in cast\n",
      "  pixel_array = ((pixel_array - np.min(pixel_array)) / (np.max(pixel_array) - np.min(pixel_array)) * 255).astype(np.uint8)\n"
     ]
    }
   ],
   "source": [
    "# Define input, output directories and prefix (for Cognitive Normal - Coronal MRIs)\n",
    "input_dir = '/Users/Dataset/1_CN/CORONAL_DCM'\n",
    "output_dir = '/Users/Dataset/1_CN/CORONAL_JPG'\n",
    "prefix = 'CN_CO_'  \n",
    "\n",
    "# Calling function to convert DICOM files to JPEG\n",
    "dicom_to_jpeg(input_dir, output_dir, prefix)"
   ]
  },
  {
   "cell_type": "markdown",
   "metadata": {},
   "source": [
    "EMCI"
   ]
  },
  {
   "cell_type": "code",
   "execution_count": null,
   "metadata": {},
   "outputs": [
    {
     "name": "stderr",
     "output_type": "stream",
     "text": [
      "/var/folders/89/0k56knzd3f53wfb4tdsbhpfw0000gn/T/ipykernel_19066/1150684480.py:21: RuntimeWarning: invalid value encountered in divide\n",
      "  pixel_array = ((pixel_array - np.min(pixel_array)) / (np.max(pixel_array) - np.min(pixel_array)) * 255).astype(np.uint8)\n",
      "/var/folders/89/0k56knzd3f53wfb4tdsbhpfw0000gn/T/ipykernel_19066/1150684480.py:21: RuntimeWarning: invalid value encountered in cast\n",
      "  pixel_array = ((pixel_array - np.min(pixel_array)) / (np.max(pixel_array) - np.min(pixel_array)) * 255).astype(np.uint8)\n"
     ]
    }
   ],
   "source": [
    "# Define input, output directories and prefix (for EMCI - Axial MRIs)\n",
    "input_dir = '/Users/Dataset/2_EMCI/AXIAL_DCM'\n",
    "output_dir = '/Users/Dataset/2_EMCI/AXIAL_JPG'\n",
    "prefix = 'EM_AX_'  \n",
    "\n",
    "# Calling function to convert DICOM files to JPEG\n",
    "dicom_to_jpeg(input_dir, output_dir, prefix)"
   ]
  },
  {
   "cell_type": "code",
   "execution_count": null,
   "metadata": {},
   "outputs": [
    {
     "name": "stderr",
     "output_type": "stream",
     "text": [
      "/var/folders/89/0k56knzd3f53wfb4tdsbhpfw0000gn/T/ipykernel_19066/1150684480.py:21: RuntimeWarning: invalid value encountered in divide\n",
      "  pixel_array = ((pixel_array - np.min(pixel_array)) / (np.max(pixel_array) - np.min(pixel_array)) * 255).astype(np.uint8)\n",
      "/var/folders/89/0k56knzd3f53wfb4tdsbhpfw0000gn/T/ipykernel_19066/1150684480.py:21: RuntimeWarning: invalid value encountered in cast\n",
      "  pixel_array = ((pixel_array - np.min(pixel_array)) / (np.max(pixel_array) - np.min(pixel_array)) * 255).astype(np.uint8)\n"
     ]
    }
   ],
   "source": [
    "# Define input, output directories and prefix (for EMCI - Sagittal MRIs)\n",
    "input_dir = '/Users/Dataset/2_EMCI/SAGITTAL_DCM'\n",
    "output_dir = '/Users/Dataset/2_EMCI/SAGITTAL_JPG'\n",
    "prefix = 'EM_SA_'  \n",
    "\n",
    "# Calling function to convert DICOM files to JPEG\n",
    "dicom_to_jpeg(input_dir, output_dir, prefix)"
   ]
  },
  {
   "cell_type": "code",
   "execution_count": null,
   "metadata": {},
   "outputs": [],
   "source": [
    "# Define input, output directories and prefix (for EMCI - Coronal MRIs)\n",
    "input_dir = '/Users/Dataset/2_EMCI/CORONAL_DCM'\n",
    "output_dir = '/Users/Dataset/2_EMCI/CORONAL_JPG'\n",
    "prefix = 'EM_CO_'  \n",
    "\n",
    "# Calling function to convert DICOM files to JPEG\n",
    "dicom_to_jpeg(input_dir, output_dir, prefix)"
   ]
  },
  {
   "cell_type": "markdown",
   "metadata": {},
   "source": [
    "MCI"
   ]
  },
  {
   "cell_type": "code",
   "execution_count": null,
   "metadata": {},
   "outputs": [
    {
     "name": "stderr",
     "output_type": "stream",
     "text": [
      "/var/folders/89/0k56knzd3f53wfb4tdsbhpfw0000gn/T/ipykernel_19066/1150684480.py:21: RuntimeWarning: invalid value encountered in divide\n",
      "  pixel_array = ((pixel_array - np.min(pixel_array)) / (np.max(pixel_array) - np.min(pixel_array)) * 255).astype(np.uint8)\n",
      "/var/folders/89/0k56knzd3f53wfb4tdsbhpfw0000gn/T/ipykernel_19066/1150684480.py:21: RuntimeWarning: invalid value encountered in cast\n",
      "  pixel_array = ((pixel_array - np.min(pixel_array)) / (np.max(pixel_array) - np.min(pixel_array)) * 255).astype(np.uint8)\n"
     ]
    }
   ],
   "source": [
    "# Define input, output directories and prefix (for MCI - Axial MRIs)\n",
    "input_dir = '/Users/Dataset/3_MCI/AXIAL_DCM'\n",
    "output_dir = '/Users/Dataset/3_MCI/AXIAL_JPG'\n",
    "prefix = 'MC_AX_'  \n",
    "\n",
    "# Calling function to convert DICOM files to JPEG\n",
    "dicom_to_jpeg(input_dir, output_dir, prefix)"
   ]
  },
  {
   "cell_type": "code",
   "execution_count": null,
   "metadata": {},
   "outputs": [
    {
     "name": "stderr",
     "output_type": "stream",
     "text": [
      "/var/folders/89/0k56knzd3f53wfb4tdsbhpfw0000gn/T/ipykernel_19066/1150684480.py:21: RuntimeWarning: invalid value encountered in divide\n",
      "  pixel_array = ((pixel_array - np.min(pixel_array)) / (np.max(pixel_array) - np.min(pixel_array)) * 255).astype(np.uint8)\n",
      "/var/folders/89/0k56knzd3f53wfb4tdsbhpfw0000gn/T/ipykernel_19066/1150684480.py:21: RuntimeWarning: invalid value encountered in cast\n",
      "  pixel_array = ((pixel_array - np.min(pixel_array)) / (np.max(pixel_array) - np.min(pixel_array)) * 255).astype(np.uint8)\n"
     ]
    }
   ],
   "source": [
    "# Define input, output directories and prefix (for MCI - Sagittal MRIs)\n",
    "input_dir = '/Users/Dataset/3_MCI/SAGITTAL_DCM'\n",
    "output_dir = '/Users/Dataset/3_MCI/SAGITTAL_JPG'\n",
    "prefix = 'MC_SA_'  \n",
    "\n",
    "# Calling function to convert DICOM files to JPEG\n",
    "dicom_to_jpeg(input_dir, output_dir, prefix)"
   ]
  },
  {
   "cell_type": "code",
   "execution_count": null,
   "metadata": {},
   "outputs": [
    {
     "name": "stderr",
     "output_type": "stream",
     "text": [
      "/var/folders/89/0k56knzd3f53wfb4tdsbhpfw0000gn/T/ipykernel_19066/1150684480.py:21: RuntimeWarning: invalid value encountered in divide\n",
      "  pixel_array = ((pixel_array - np.min(pixel_array)) / (np.max(pixel_array) - np.min(pixel_array)) * 255).astype(np.uint8)\n",
      "/var/folders/89/0k56knzd3f53wfb4tdsbhpfw0000gn/T/ipykernel_19066/1150684480.py:21: RuntimeWarning: invalid value encountered in cast\n",
      "  pixel_array = ((pixel_array - np.min(pixel_array)) / (np.max(pixel_array) - np.min(pixel_array)) * 255).astype(np.uint8)\n"
     ]
    }
   ],
   "source": [
    "# Define input, output directories and prefix (for MCI - Coronal MRIs)\n",
    "input_dir = '/Users/Dataset/3_MCI/CORONAL_DCM'\n",
    "output_dir = '/Users/Dataset/3_MCI/CORONAL_JPG'\n",
    "prefix = 'MC_CO_'  \n",
    "\n",
    "# Calling function to convert DICOM files to JPEG\n",
    "dicom_to_jpeg(input_dir, output_dir, prefix)"
   ]
  },
  {
   "cell_type": "markdown",
   "metadata": {},
   "source": [
    "LMCI"
   ]
  },
  {
   "cell_type": "code",
   "execution_count": null,
   "metadata": {},
   "outputs": [
    {
     "name": "stderr",
     "output_type": "stream",
     "text": [
      "/var/folders/89/0k56knzd3f53wfb4tdsbhpfw0000gn/T/ipykernel_19066/1150684480.py:21: RuntimeWarning: invalid value encountered in divide\n",
      "  pixel_array = ((pixel_array - np.min(pixel_array)) / (np.max(pixel_array) - np.min(pixel_array)) * 255).astype(np.uint8)\n",
      "/var/folders/89/0k56knzd3f53wfb4tdsbhpfw0000gn/T/ipykernel_19066/1150684480.py:21: RuntimeWarning: invalid value encountered in cast\n",
      "  pixel_array = ((pixel_array - np.min(pixel_array)) / (np.max(pixel_array) - np.min(pixel_array)) * 255).astype(np.uint8)\n"
     ]
    }
   ],
   "source": [
    "# Define input, output directories and prefix (for LMCI - Axial MRIs)\n",
    "input_dir = '/Users/Dataset/4_LMCI/AXIAL_DCM'\n",
    "output_dir = '/Users/Dataset/4_LMCI/AXIAL_JPG'\n",
    "prefix = 'LM_AX_'  \n",
    "\n",
    "# Calling function to convert DICOM files to JPEG\n",
    "dicom_to_jpeg(input_dir, output_dir, prefix)"
   ]
  },
  {
   "cell_type": "code",
   "execution_count": null,
   "metadata": {},
   "outputs": [
    {
     "name": "stderr",
     "output_type": "stream",
     "text": [
      "/var/folders/89/0k56knzd3f53wfb4tdsbhpfw0000gn/T/ipykernel_19066/1150684480.py:21: RuntimeWarning: invalid value encountered in divide\n",
      "  pixel_array = ((pixel_array - np.min(pixel_array)) / (np.max(pixel_array) - np.min(pixel_array)) * 255).astype(np.uint8)\n",
      "/var/folders/89/0k56knzd3f53wfb4tdsbhpfw0000gn/T/ipykernel_19066/1150684480.py:21: RuntimeWarning: invalid value encountered in cast\n",
      "  pixel_array = ((pixel_array - np.min(pixel_array)) / (np.max(pixel_array) - np.min(pixel_array)) * 255).astype(np.uint8)\n"
     ]
    }
   ],
   "source": [
    "# Define input, output directories and prefix (for LMCI - Sagittal MRIs)\n",
    "input_dir = '/Users/Dataset/4_LMCI/SAGITTAL_DCM'\n",
    "output_dir = '/Users/Dataset/4_LMCI/SAGITTAL_JPG'\n",
    "prefix = 'LM_SA_'  \n",
    "\n",
    "# Calling function to convert DICOM files to JPEG\n",
    "dicom_to_jpeg(input_dir, output_dir, prefix)"
   ]
  },
  {
   "cell_type": "code",
   "execution_count": null,
   "metadata": {},
   "outputs": [],
   "source": [
    "# Define input, output directories and prefix (for LMCI - Coronal MRIs)\n",
    "input_dir = '/Users/Dataset/4_LMCI/CORONAL_DCM'\n",
    "output_dir = '/Users/Dataset/4_LMCI/CORONAL_JPG'\n",
    "prefix = 'LM_CO_'  \n",
    "\n",
    "# Calling function to convert DICOM files to JPEG\n",
    "dicom_to_jpeg(input_dir, output_dir, prefix)"
   ]
  },
  {
   "cell_type": "markdown",
   "metadata": {},
   "source": [
    "AD"
   ]
  },
  {
   "cell_type": "code",
   "execution_count": null,
   "metadata": {},
   "outputs": [
    {
     "name": "stderr",
     "output_type": "stream",
     "text": [
      "/var/folders/89/0k56knzd3f53wfb4tdsbhpfw0000gn/T/ipykernel_1586/1150684480.py:21: RuntimeWarning: invalid value encountered in divide\n",
      "  pixel_array = ((pixel_array - np.min(pixel_array)) / (np.max(pixel_array) - np.min(pixel_array)) * 255).astype(np.uint8)\n",
      "/var/folders/89/0k56knzd3f53wfb4tdsbhpfw0000gn/T/ipykernel_1586/1150684480.py:21: RuntimeWarning: invalid value encountered in cast\n",
      "  pixel_array = ((pixel_array - np.min(pixel_array)) / (np.max(pixel_array) - np.min(pixel_array)) * 255).astype(np.uint8)\n"
     ]
    }
   ],
   "source": [
    "# Define input, output directories and prefix (for AD - Axial MRIs)\n",
    "input_dir = '/Users/Dataset/5_AD/AXIAL_DCM'\n",
    "output_dir = '/Users/Dataset/5_AD/AXIAL_JPG'\n",
    "prefix = 'AD_AX_'  \n",
    "\n",
    "# Calling function to convert DICOM files to JPEG\n",
    "dicom_to_jpeg(input_dir, output_dir, prefix)"
   ]
  },
  {
   "cell_type": "code",
   "execution_count": null,
   "metadata": {},
   "outputs": [
    {
     "name": "stderr",
     "output_type": "stream",
     "text": [
      "/var/folders/89/0k56knzd3f53wfb4tdsbhpfw0000gn/T/ipykernel_1586/1150684480.py:21: RuntimeWarning: invalid value encountered in divide\n",
      "  pixel_array = ((pixel_array - np.min(pixel_array)) / (np.max(pixel_array) - np.min(pixel_array)) * 255).astype(np.uint8)\n",
      "/var/folders/89/0k56knzd3f53wfb4tdsbhpfw0000gn/T/ipykernel_1586/1150684480.py:21: RuntimeWarning: invalid value encountered in cast\n",
      "  pixel_array = ((pixel_array - np.min(pixel_array)) / (np.max(pixel_array) - np.min(pixel_array)) * 255).astype(np.uint8)\n"
     ]
    }
   ],
   "source": [
    "# Define input, output directories and prefix (for AD - Sagittal MRIs)\n",
    "input_dir = '/Users/Dataset/5_AD/SAGITTAL_DCM'\n",
    "output_dir = '/Users/Dataset/5_AD/SAGITTAL_JPG'\n",
    "prefix = 'AD_SA_'  \n",
    "\n",
    "# Calling function to convert DICOM files to JPEG\n",
    "dicom_to_jpeg(input_dir, output_dir, prefix)"
   ]
  },
  {
   "cell_type": "code",
   "execution_count": null,
   "metadata": {},
   "outputs": [],
   "source": [
    "# Define input, output directories and prefix (for AD - Coronal MRIs)\n",
    "input_dir = '/Users/Dataset/5_AD/CORONAL_DCM'\n",
    "output_dir = '/Users/Dataset/5_AD/CORONAL_JPG'\n",
    "prefix = 'AD_CO_'  \n",
    "\n",
    "# Calling function to convert DICOM files to JPEG\n",
    "dicom_to_jpeg(input_dir, output_dir, prefix)"
   ]
  }
 ],
 "metadata": {
  "kernelspec": {
   "display_name": "Python 3",
   "language": "python",
   "name": "python3"
  },
  "language_info": {
   "codemirror_mode": {
    "name": "ipython",
    "version": 3
   },
   "file_extension": ".py",
   "mimetype": "text/x-python",
   "name": "python",
   "nbconvert_exporter": "python",
   "pygments_lexer": "ipython3",
   "version": "3.12.3"
  }
 },
 "nbformat": 4,
 "nbformat_minor": 2
}
